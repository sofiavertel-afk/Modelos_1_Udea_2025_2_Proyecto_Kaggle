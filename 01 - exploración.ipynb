{
 "cells": [
  {
   "cell_type": "markdown",
   "metadata": {},
   "source": [
    "# Exploración de Hábitos Digitales: Uso del Celular según Horas de Estudio y Sueño\n",
    "### Sofía Esther Vertel Benítez – Ingeniería Industrial\n",
    "### Modelos 1 – UdeA 2025-2"
   ]
  },
  {
   "cell_type": "code",
   "execution_count": null,
   "metadata": {},
   "outputs": [],
   "source": [
    "import pandas as pd\n",
    "import numpy as np\n",
    "import matplotlib.pyplot as plt\n",
    "import seaborn as sns\n",
    "print('✅ Librerías cargadas correctamente')"
   ]
  },
  {
   "cell_type": "code",
   "execution_count": null,
   "metadata": {},
   "outputs": [],
   "source": [
    "# Cargar los datos\n",
    "data = pd.read_csv('train.csv')\n",
    "print('✅ Datos cargados correctamente')\n",
    "data.head()"
   ]
  },
  {
   "cell_type": "code",
   "execution_count": null,
   "metadata": {},
   "outputs": [],
   "source": [
    "# Información general del dataset\n",
    "print('Dimensiones:', data.shape)\n",
    "print('\nColumnas:', data.columns.tolist())\n",
    "print('\nEstadísticas descriptivas:')\n",
    "display(data.describe())"
   ]
  },
  {
   "cell_type": "code",
   "execution_count": null,
   "metadata": {},
   "outputs": [],
   "source": [
    "# Distribución de horas de uso del celular\n",
    "sns.histplot(data['phone_use_hours'], bins=10, kde=True, color='orange')\n",
    "plt.title('Distribución de Horas de Uso del Celular')\n",
    "plt.xlabel('Horas por Día')\n",
    "plt.ylabel('Frecuencia')\n",
    "plt.show()"
   ]
  },
  {
   "cell_type": "code",
   "execution_count": null,
   "metadata": {},
   "outputs": [],
   "source": [
    "# Relación entre sueño y uso del celular\n",
    "sns.scatterplot(data=data, x='sleep_hours', y='phone_use_hours', hue='gender', palette='Set2')\n",
    "plt.title('Sueño vs Uso del Celular')\n",
    "plt.xlabel('Horas de Sueño')\n",
    "plt.ylabel('Horas de Uso del Celular')\n",
    "plt.show()"
   ]
  },
  {
   "cell_type": "code",
   "execution_count": null,
   "metadata": {},
   "outputs": [],
   "source": [
    "# Correlaciones entre variables cuantitativas\n",
    "corr = data[['sleep_hours', 'study_hours', 'phone_use_hours']].corr()\n",
    "sns.heatmap(corr, annot=True, cmap='coolwarm', fmt='.2f')\n",
    "plt.title('Matriz de Correlación entre Hábitos')\n",
    "plt.show()"
   ]
  },
  {
   "cell_type": "markdown",
   "metadata": {},
   "source": [
    "✅ **Conclusión:** En esta exploración inicial observamos patrones interesantes entre las horas de estudio, sueño y el tiempo de uso del celular. Este análisis servirá como base para futuros modelos predictivos en el marco de la competencia Kaggle AI4ENG UdeA 2025-2."
   ]
  }
 ],
 "metadata": {
  "kernelspec": {
   "display_name": "Python 3",
   "language": "python",
   "name": "python3"
  },
  "language_info": {
   "name": "python"
  }
 },
 "nbformat": 4,
 "nbformat_minor": 2
}