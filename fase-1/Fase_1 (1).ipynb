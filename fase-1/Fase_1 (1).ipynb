{
  "nbformat": 4,
  "nbformat_minor": 0,
  "metadata": {
    "colab": {
      "provenance": []
    },
    "kernelspec": {
      "name": "python3",
      "display_name": "Python 3"
    },
    "language_info": {
      "name": "python"
    }
  },
  "cells": [
    {
      "cell_type": "code",
      "execution_count": 1,
      "metadata": {
        "id": "OJehjFDFiaaj"
      },
      "outputs": [],
      "source": [
        "# ======================================================\n",
        "# 🚖 FASE 1 - Proyecto Sustitutorio Modelos 1\n",
        "# Modelo predictivo: Predicción de tarifas de taxi\n",
        "# Autora: Sofía Pérez\n",
        "# ======================================================\n",
        "\n",
        "# 1️⃣ Importar librerías necesarias\n",
        "import pandas as pd\n",
        "import numpy as np\n",
        "from sklearn.model_selection import train_test_split\n",
        "from sklearn.linear_model import LinearRegression\n",
        "from sklearn.metrics import mean_absolute_error\n",
        "import joblib\n",
        "\n"
      ]
    },
    {
      "cell_type": "code",
      "execution_count": 2,
      "metadata": {
        "colab": {
          "base_uri": "https://localhost:8080/"
        },
        "id": "TBI80FgVpQxU",
        "outputId": "d9b99acc-7918-49d3-fb05-78bec010e4f0"
      },
      "outputs": [
        {
          "output_type": "stream",
          "name": "stdout",
          "text": [
            "⚠️ No se pudo cargar el dataset. Crea un DataFrame de ejemplo.\n"
          ]
        }
      ],
      "source": [
        "# 2️⃣ Cargar el dataset público de Kaggle o una muestra equivalente\n",
        "# Usaremos un dataset sencillo disponible en un enlace público\n",
        "url = \"https://raw.githubusercontent.com/ageron/handson-ml/master/datasets/taxi/taxi_train_sample.csv\"\n",
        "\n",
        "# Si el enlace no carga, puedes sustituirlo por cualquier dataset de taxis de Kaggle\n",
        "try:\n",
        "    data = pd.read_csv(url)\n",
        "    print(\"✅ Dataset cargado correctamente.\")\n",
        "except:\n",
        "    print(\"⚠️ No se pudo cargar el dataset. Crea un DataFrame de ejemplo.\")\n",
        "    # DataFrame de ejemplo (simulación)\n",
        "    data = pd.DataFrame({\n",
        "        \"trip_distance\": np.random.uniform(0.5, 10, 1000),\n",
        "        \"fare_amount\": np.random.uniform(5, 50, 1000)\n",
        "    })\n",
        "\n",
        "\n"
      ]
    },
    {
      "cell_type": "code",
      "source": [],
      "metadata": {
        "id": "qJ0ipXnSkydt"
      },
      "execution_count": null,
      "outputs": []
    },
    {
      "cell_type": "code",
      "execution_count": 3,
      "metadata": {
        "id": "AKWHnq9VpdMP"
      },
      "outputs": [],
      "source": [
        "# 3️⃣ Mostrar las primeras filas\n",
        "data.head()\n",
        "\n",
        "# 4️⃣ Limpieza básica de datos\n",
        "data = data.dropna()\n",
        "data = data[(data[\"fare_amount\"] > 0) & (data[\"trip_distance\"] > 0)]\n",
        "\n",
        "# 5️⃣ Variables predictoras (X) y variable objetivo (y)\n",
        "X = data[[\"trip_distance\"]]\n",
        "y = data[\"fare_amount\"]\n"
      ]
    },
    {
      "cell_type": "code",
      "source": [
        "import pandas as pd\n",
        "import numpy as np\n",
        "\n",
        "url = \"https://raw.githubusercontent.com/ageron/handson-ml/master/datasets/taxi/taxi_train_sample.csv\"\n",
        "\n",
        "try:\n",
        "    data = pd.read_csv(url)\n",
        "    print(\"✅ Dataset cargado correctamente.\")\n",
        "    print(\"Columnas disponibles:\", data.columns.tolist())\n",
        "except:\n",
        "    print(\"⚠️ No se pudo cargar el dataset. Creando DataFrame de ejemplo.\")\n",
        "    data = pd.DataFrame({\n",
        "        \"pickup_longitude\": np.random.uniform(-74.1, -73.9, 1000),\n",
        "        \"pickup_latitude\": np.random.uniform(40.6, 40.9, 1000),\n",
        "        \"dropoff_longitude\": np.random.uniform(-74.1, -73.9, 1000),\n",
        "        \"dropoff_latitude\": np.random.uniform(40.6, 40.9, 1000),\n",
        "        \"fare_amount\": np.random.uniform(5, 50, 1000)\n",
        "    })\n",
        "\n",
        "data.head()\n"
      ],
      "metadata": {
        "colab": {
          "base_uri": "https://localhost:8080/",
          "height": 223
        },
        "id": "W0YleGbfq_uJ",
        "outputId": "2fa64a57-c3aa-4718-f61e-8d461ddb72a9"
      },
      "execution_count": 12,
      "outputs": [
        {
          "output_type": "stream",
          "name": "stdout",
          "text": [
            "⚠️ No se pudo cargar el dataset. Creando DataFrame de ejemplo.\n"
          ]
        },
        {
          "output_type": "execute_result",
          "data": {
            "text/plain": [
              "   pickup_longitude  pickup_latitude  dropoff_longitude  dropoff_latitude  \\\n",
              "0        -73.921282        40.874876         -74.011286         40.750232   \n",
              "1        -74.037229        40.829291         -74.014688         40.808000   \n",
              "2        -74.062143        40.765210         -73.985847         40.888762   \n",
              "3        -73.976586        40.794131         -73.917903         40.866766   \n",
              "4        -74.036731        40.838989         -74.000340         40.783379   \n",
              "\n",
              "   fare_amount  \n",
              "0    11.475660  \n",
              "1    28.938307  \n",
              "2    34.276036  \n",
              "3    16.150636  \n",
              "4    18.741827  "
            ],
            "text/html": [
              "\n",
              "  <div id=\"df-6500a8a8-f697-431f-970a-a31f1fd08a88\" class=\"colab-df-container\">\n",
              "    <div>\n",
              "<style scoped>\n",
              "    .dataframe tbody tr th:only-of-type {\n",
              "        vertical-align: middle;\n",
              "    }\n",
              "\n",
              "    .dataframe tbody tr th {\n",
              "        vertical-align: top;\n",
              "    }\n",
              "\n",
              "    .dataframe thead th {\n",
              "        text-align: right;\n",
              "    }\n",
              "</style>\n",
              "<table border=\"1\" class=\"dataframe\">\n",
              "  <thead>\n",
              "    <tr style=\"text-align: right;\">\n",
              "      <th></th>\n",
              "      <th>pickup_longitude</th>\n",
              "      <th>pickup_latitude</th>\n",
              "      <th>dropoff_longitude</th>\n",
              "      <th>dropoff_latitude</th>\n",
              "      <th>fare_amount</th>\n",
              "    </tr>\n",
              "  </thead>\n",
              "  <tbody>\n",
              "    <tr>\n",
              "      <th>0</th>\n",
              "      <td>-73.921282</td>\n",
              "      <td>40.874876</td>\n",
              "      <td>-74.011286</td>\n",
              "      <td>40.750232</td>\n",
              "      <td>11.475660</td>\n",
              "    </tr>\n",
              "    <tr>\n",
              "      <th>1</th>\n",
              "      <td>-74.037229</td>\n",
              "      <td>40.829291</td>\n",
              "      <td>-74.014688</td>\n",
              "      <td>40.808000</td>\n",
              "      <td>28.938307</td>\n",
              "    </tr>\n",
              "    <tr>\n",
              "      <th>2</th>\n",
              "      <td>-74.062143</td>\n",
              "      <td>40.765210</td>\n",
              "      <td>-73.985847</td>\n",
              "      <td>40.888762</td>\n",
              "      <td>34.276036</td>\n",
              "    </tr>\n",
              "    <tr>\n",
              "      <th>3</th>\n",
              "      <td>-73.976586</td>\n",
              "      <td>40.794131</td>\n",
              "      <td>-73.917903</td>\n",
              "      <td>40.866766</td>\n",
              "      <td>16.150636</td>\n",
              "    </tr>\n",
              "    <tr>\n",
              "      <th>4</th>\n",
              "      <td>-74.036731</td>\n",
              "      <td>40.838989</td>\n",
              "      <td>-74.000340</td>\n",
              "      <td>40.783379</td>\n",
              "      <td>18.741827</td>\n",
              "    </tr>\n",
              "  </tbody>\n",
              "</table>\n",
              "</div>\n",
              "    <div class=\"colab-df-buttons\">\n",
              "\n",
              "  <div class=\"colab-df-container\">\n",
              "    <button class=\"colab-df-convert\" onclick=\"convertToInteractive('df-6500a8a8-f697-431f-970a-a31f1fd08a88')\"\n",
              "            title=\"Convert this dataframe to an interactive table.\"\n",
              "            style=\"display:none;\">\n",
              "\n",
              "  <svg xmlns=\"http://www.w3.org/2000/svg\" height=\"24px\" viewBox=\"0 -960 960 960\">\n",
              "    <path d=\"M120-120v-720h720v720H120Zm60-500h600v-160H180v160Zm220 220h160v-160H400v160Zm0 220h160v-160H400v160ZM180-400h160v-160H180v160Zm440 0h160v-160H620v160ZM180-180h160v-160H180v160Zm440 0h160v-160H620v160Z\"/>\n",
              "  </svg>\n",
              "    </button>\n",
              "\n",
              "  <style>\n",
              "    .colab-df-container {\n",
              "      display:flex;\n",
              "      gap: 12px;\n",
              "    }\n",
              "\n",
              "    .colab-df-convert {\n",
              "      background-color: #E8F0FE;\n",
              "      border: none;\n",
              "      border-radius: 50%;\n",
              "      cursor: pointer;\n",
              "      display: none;\n",
              "      fill: #1967D2;\n",
              "      height: 32px;\n",
              "      padding: 0 0 0 0;\n",
              "      width: 32px;\n",
              "    }\n",
              "\n",
              "    .colab-df-convert:hover {\n",
              "      background-color: #E2EBFA;\n",
              "      box-shadow: 0px 1px 2px rgba(60, 64, 67, 0.3), 0px 1px 3px 1px rgba(60, 64, 67, 0.15);\n",
              "      fill: #174EA6;\n",
              "    }\n",
              "\n",
              "    .colab-df-buttons div {\n",
              "      margin-bottom: 4px;\n",
              "    }\n",
              "\n",
              "    [theme=dark] .colab-df-convert {\n",
              "      background-color: #3B4455;\n",
              "      fill: #D2E3FC;\n",
              "    }\n",
              "\n",
              "    [theme=dark] .colab-df-convert:hover {\n",
              "      background-color: #434B5C;\n",
              "      box-shadow: 0px 1px 3px 1px rgba(0, 0, 0, 0.15);\n",
              "      filter: drop-shadow(0px 1px 2px rgba(0, 0, 0, 0.3));\n",
              "      fill: #FFFFFF;\n",
              "    }\n",
              "  </style>\n",
              "\n",
              "    <script>\n",
              "      const buttonEl =\n",
              "        document.querySelector('#df-6500a8a8-f697-431f-970a-a31f1fd08a88 button.colab-df-convert');\n",
              "      buttonEl.style.display =\n",
              "        google.colab.kernel.accessAllowed ? 'block' : 'none';\n",
              "\n",
              "      async function convertToInteractive(key) {\n",
              "        const element = document.querySelector('#df-6500a8a8-f697-431f-970a-a31f1fd08a88');\n",
              "        const dataTable =\n",
              "          await google.colab.kernel.invokeFunction('convertToInteractive',\n",
              "                                                    [key], {});\n",
              "        if (!dataTable) return;\n",
              "\n",
              "        const docLinkHtml = 'Like what you see? Visit the ' +\n",
              "          '<a target=\"_blank\" href=https://colab.research.google.com/notebooks/data_table.ipynb>data table notebook</a>'\n",
              "          + ' to learn more about interactive tables.';\n",
              "        element.innerHTML = '';\n",
              "        dataTable['output_type'] = 'display_data';\n",
              "        await google.colab.output.renderOutput(dataTable, element);\n",
              "        const docLink = document.createElement('div');\n",
              "        docLink.innerHTML = docLinkHtml;\n",
              "        element.appendChild(docLink);\n",
              "      }\n",
              "    </script>\n",
              "  </div>\n",
              "\n",
              "\n",
              "    <div id=\"df-5954353c-d374-496d-b2ca-e521f92267ee\">\n",
              "      <button class=\"colab-df-quickchart\" onclick=\"quickchart('df-5954353c-d374-496d-b2ca-e521f92267ee')\"\n",
              "                title=\"Suggest charts\"\n",
              "                style=\"display:none;\">\n",
              "\n",
              "<svg xmlns=\"http://www.w3.org/2000/svg\" height=\"24px\"viewBox=\"0 0 24 24\"\n",
              "     width=\"24px\">\n",
              "    <g>\n",
              "        <path d=\"M19 3H5c-1.1 0-2 .9-2 2v14c0 1.1.9 2 2 2h14c1.1 0 2-.9 2-2V5c0-1.1-.9-2-2-2zM9 17H7v-7h2v7zm4 0h-2V7h2v10zm4 0h-2v-4h2v4z\"/>\n",
              "    </g>\n",
              "</svg>\n",
              "      </button>\n",
              "\n",
              "<style>\n",
              "  .colab-df-quickchart {\n",
              "      --bg-color: #E8F0FE;\n",
              "      --fill-color: #1967D2;\n",
              "      --hover-bg-color: #E2EBFA;\n",
              "      --hover-fill-color: #174EA6;\n",
              "      --disabled-fill-color: #AAA;\n",
              "      --disabled-bg-color: #DDD;\n",
              "  }\n",
              "\n",
              "  [theme=dark] .colab-df-quickchart {\n",
              "      --bg-color: #3B4455;\n",
              "      --fill-color: #D2E3FC;\n",
              "      --hover-bg-color: #434B5C;\n",
              "      --hover-fill-color: #FFFFFF;\n",
              "      --disabled-bg-color: #3B4455;\n",
              "      --disabled-fill-color: #666;\n",
              "  }\n",
              "\n",
              "  .colab-df-quickchart {\n",
              "    background-color: var(--bg-color);\n",
              "    border: none;\n",
              "    border-radius: 50%;\n",
              "    cursor: pointer;\n",
              "    display: none;\n",
              "    fill: var(--fill-color);\n",
              "    height: 32px;\n",
              "    padding: 0;\n",
              "    width: 32px;\n",
              "  }\n",
              "\n",
              "  .colab-df-quickchart:hover {\n",
              "    background-color: var(--hover-bg-color);\n",
              "    box-shadow: 0 1px 2px rgba(60, 64, 67, 0.3), 0 1px 3px 1px rgba(60, 64, 67, 0.15);\n",
              "    fill: var(--button-hover-fill-color);\n",
              "  }\n",
              "\n",
              "  .colab-df-quickchart-complete:disabled,\n",
              "  .colab-df-quickchart-complete:disabled:hover {\n",
              "    background-color: var(--disabled-bg-color);\n",
              "    fill: var(--disabled-fill-color);\n",
              "    box-shadow: none;\n",
              "  }\n",
              "\n",
              "  .colab-df-spinner {\n",
              "    border: 2px solid var(--fill-color);\n",
              "    border-color: transparent;\n",
              "    border-bottom-color: var(--fill-color);\n",
              "    animation:\n",
              "      spin 1s steps(1) infinite;\n",
              "  }\n",
              "\n",
              "  @keyframes spin {\n",
              "    0% {\n",
              "      border-color: transparent;\n",
              "      border-bottom-color: var(--fill-color);\n",
              "      border-left-color: var(--fill-color);\n",
              "    }\n",
              "    20% {\n",
              "      border-color: transparent;\n",
              "      border-left-color: var(--fill-color);\n",
              "      border-top-color: var(--fill-color);\n",
              "    }\n",
              "    30% {\n",
              "      border-color: transparent;\n",
              "      border-left-color: var(--fill-color);\n",
              "      border-top-color: var(--fill-color);\n",
              "      border-right-color: var(--fill-color);\n",
              "    }\n",
              "    40% {\n",
              "      border-color: transparent;\n",
              "      border-right-color: var(--fill-color);\n",
              "      border-top-color: var(--fill-color);\n",
              "    }\n",
              "    60% {\n",
              "      border-color: transparent;\n",
              "      border-right-color: var(--fill-color);\n",
              "    }\n",
              "    80% {\n",
              "      border-color: transparent;\n",
              "      border-right-color: var(--fill-color);\n",
              "      border-bottom-color: var(--fill-color);\n",
              "    }\n",
              "    90% {\n",
              "      border-color: transparent;\n",
              "      border-bottom-color: var(--fill-color);\n",
              "    }\n",
              "  }\n",
              "</style>\n",
              "\n",
              "      <script>\n",
              "        async function quickchart(key) {\n",
              "          const quickchartButtonEl =\n",
              "            document.querySelector('#' + key + ' button');\n",
              "          quickchartButtonEl.disabled = true;  // To prevent multiple clicks.\n",
              "          quickchartButtonEl.classList.add('colab-df-spinner');\n",
              "          try {\n",
              "            const charts = await google.colab.kernel.invokeFunction(\n",
              "                'suggestCharts', [key], {});\n",
              "          } catch (error) {\n",
              "            console.error('Error during call to suggestCharts:', error);\n",
              "          }\n",
              "          quickchartButtonEl.classList.remove('colab-df-spinner');\n",
              "          quickchartButtonEl.classList.add('colab-df-quickchart-complete');\n",
              "        }\n",
              "        (() => {\n",
              "          let quickchartButtonEl =\n",
              "            document.querySelector('#df-5954353c-d374-496d-b2ca-e521f92267ee button');\n",
              "          quickchartButtonEl.style.display =\n",
              "            google.colab.kernel.accessAllowed ? 'block' : 'none';\n",
              "        })();\n",
              "      </script>\n",
              "    </div>\n",
              "\n",
              "    </div>\n",
              "  </div>\n"
            ],
            "application/vnd.google.colaboratory.intrinsic+json": {
              "type": "dataframe",
              "variable_name": "data",
              "summary": "{\n  \"name\": \"data\",\n  \"rows\": 1000,\n  \"fields\": [\n    {\n      \"column\": \"pickup_longitude\",\n      \"properties\": {\n        \"dtype\": \"number\",\n        \"std\": 0.05850106506595845,\n        \"min\": -74.09998940523955,\n        \"max\": -73.90001285344147,\n        \"num_unique_values\": 1000,\n        \"samples\": [\n          -74.04113981614339,\n          -74.08254726602239,\n          -74.08834585042861\n        ],\n        \"semantic_type\": \"\",\n        \"description\": \"\"\n      }\n    },\n    {\n      \"column\": \"pickup_latitude\",\n      \"properties\": {\n        \"dtype\": \"number\",\n        \"std\": 0.0870780407326942,\n        \"min\": 40.600024440613915,\n        \"max\": 40.899774178134614,\n        \"num_unique_values\": 1000,\n        \"samples\": [\n          40.866057692072886,\n          40.6539287559141,\n          40.800556087501356\n        ],\n        \"semantic_type\": \"\",\n        \"description\": \"\"\n      }\n    },\n    {\n      \"column\": \"dropoff_longitude\",\n      \"properties\": {\n        \"dtype\": \"number\",\n        \"std\": 0.056354456642163264,\n        \"min\": -74.09985963977265,\n        \"max\": -73.90040875268136,\n        \"num_unique_values\": 1000,\n        \"samples\": [\n          -73.98333923175781,\n          -73.9990573389291,\n          -73.95618841692938\n        ],\n        \"semantic_type\": \"\",\n        \"description\": \"\"\n      }\n    },\n    {\n      \"column\": \"dropoff_latitude\",\n      \"properties\": {\n        \"dtype\": \"number\",\n        \"std\": 0.08561535375088221,\n        \"min\": 40.60038246571612,\n        \"max\": 40.899940499268794,\n        \"num_unique_values\": 1000,\n        \"samples\": [\n          40.738284550748155,\n          40.89371246116246,\n          40.72573996706862\n        ],\n        \"semantic_type\": \"\",\n        \"description\": \"\"\n      }\n    },\n    {\n      \"column\": \"fare_amount\",\n      \"properties\": {\n        \"dtype\": \"number\",\n        \"std\": 12.813199060841402,\n        \"min\": 5.008628225347641,\n        \"max\": 49.9921891643094,\n        \"num_unique_values\": 1000,\n        \"samples\": [\n          44.20976551815326,\n          6.015656750681843,\n          16.30043459571168\n        ],\n        \"semantic_type\": \"\",\n        \"description\": \"\"\n      }\n    }\n  ]\n}"
            }
          },
          "metadata": {},
          "execution_count": 12
        }
      ]
    },
    {
      "cell_type": "code",
      "source": [
        "# 4. Limpieza básica y selección de variables\n",
        "data = data.dropna(subset=[\"pickup_longitude\", \"pickup_latitude\",\n",
        "                           \"dropoff_longitude\", \"dropoff_latitude\", \"fare_amount\"])\n",
        "\n",
        "# Mantener solo tarifas razonables (ejemplo)\n",
        "data = data[(data[\"fare_amount\"] > 0) & (data[\"fare_amount\"] < 100)]\n",
        "\n",
        "# Definir X e y\n",
        "X = data[[\"pickup_longitude\", \"pickup_latitude\", \"dropoff_longitude\", \"dropoff_latitude\"]]\n",
        "y = data[\"fare_amount\"]\n",
        "\n",
        "print(\"Tamaño final del conjunto de datos (X, y):\", X.shape, y.shape)\n"
      ],
      "metadata": {
        "id": "-p6DznuFk6pq",
        "colab": {
          "base_uri": "https://localhost:8080/"
        },
        "outputId": "f755a7e0-61c2-4e38-8549-4779a7b87d58"
      },
      "execution_count": 11,
      "outputs": [
        {
          "output_type": "stream",
          "name": "stdout",
          "text": [
            "Tamaño final del conjunto de datos (X, y): (1000, 4) (1000,)\n"
          ]
        }
      ]
    },
    {
      "cell_type": "code",
      "execution_count": 5,
      "metadata": {
        "id": "fPxGCsVEpkjI"
      },
      "outputs": [],
      "source": [
        "# 6️⃣ División en entrenamiento y prueba\n",
        "X_train, X_test, y_train, y_test = train_test_split(X, y, test_size=0.2, random_state=42)\n",
        "\n",
        "# 7️⃣ Crear y entrenar el modelo\n",
        "modelo = LinearRegression()\n",
        "modelo.fit(X_train, y_train)\n",
        "\n",
        "# 8️⃣ Realizar predicciones\n",
        "predicciones = modelo.predict(X_test)"
      ]
    },
    {
      "cell_type": "code",
      "source": [
        "\n"
      ],
      "metadata": {
        "id": "z0mA1vj4k_i7"
      },
      "execution_count": null,
      "outputs": []
    },
    {
      "cell_type": "code",
      "execution_count": 13,
      "metadata": {
        "colab": {
          "base_uri": "https://localhost:8080/"
        },
        "id": "01LN9GEtpsFb",
        "outputId": "2ba83303-6939-4ae8-a607-d86951d1b390"
      },
      "outputs": [
        {
          "output_type": "stream",
          "name": "stdout",
          "text": [
            "📊 Error medio absoluto (MAE): 10.86\n"
          ]
        }
      ],
      "source": [
        "# 9️⃣ Evaluar el modelo\n",
        "mae = mean_absolute_error(y_test, predicciones)\n",
        "print(f\"📊 Error medio absoluto (MAE): {mae:.2f}\")"
      ]
    },
    {
      "cell_type": "code",
      "source": [
        "\n"
      ],
      "metadata": {
        "id": "5p4cCasdlEJq"
      },
      "execution_count": null,
      "outputs": []
    },
    {
      "cell_type": "code",
      "execution_count": 9,
      "metadata": {
        "colab": {
          "base_uri": "https://localhost:8080/"
        },
        "id": "cxEf8jSNpzH-",
        "outputId": "c0c845a6-5702-4000-c1d0-742a42b91d37"
      },
      "outputs": [
        {
          "output_type": "stream",
          "name": "stdout",
          "text": [
            "💾 Modelo guardado como modelo_taxi.pkl\n",
            "🚕 Predicción de tarifa para un viaje de 5 km: $27.45\n"
          ]
        },
        {
          "output_type": "stream",
          "name": "stderr",
          "text": [
            "/usr/local/lib/python3.12/dist-packages/sklearn/utils/validation.py:2739: UserWarning: X does not have valid feature names, but LinearRegression was fitted with feature names\n",
            "  warnings.warn(\n"
          ]
        }
      ],
      "source": [
        "# 1️⃣0️⃣ Guardar el modelo entrenado en un archivo\n",
        "joblib.dump(modelo, \"modelo_taxi.pkl\")\n",
        "print(\"💾 Modelo guardado como modelo_taxi.pkl\")\n",
        "\n",
        "# 1️⃣1️⃣ Probar una predicción nueva\n",
        "distancia_nueva = np.array([[5]])  # ejemplo: un viaje de 5 km\n",
        "prediccion = modelo.predict(distancia_nueva)\n",
        "print(f\"🚕 Predicción de tarifa para un viaje de 5 km: ${prediccion[0]:.2f}\")\n",
        "\n"
      ]
    }
  ]
}