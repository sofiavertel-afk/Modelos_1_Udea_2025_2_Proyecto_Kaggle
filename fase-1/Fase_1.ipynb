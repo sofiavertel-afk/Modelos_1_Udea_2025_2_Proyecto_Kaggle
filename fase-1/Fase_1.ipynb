{
  "nbformat": 4,
  "nbformat_minor": 0,
  "metadata": {
    "colab": {
      "provenance": []
    },
    "kernelspec": {
      "name": "python3",
      "display_name": "Python 3"
    },
    "language_info": {
      "name": "python"
    }
  },
  "cells": [
    {
      "cell_type": "code",
      "execution_count": null,
      "metadata": {
        "id": "OJehjFDFiaaj"
      },
      "outputs": [],
      "source": [
        "# ============================================================\n",
        "# FASE 1 - PROYECTO SUSTITUTORIO MODELOS 1\n",
        "# MODELO PREDICTIVO: Predicción de tarifas de taxi en Nueva York\n",
        "# ============================================================\n",
        "# Autor: Sofía Esther Vertel Bentez\n",
        "# Curso: Modelos 1 – Semestre 2025-2\n",
        "# ============================================================\n",
        "\n",
        "# 1. Importación de librerías\n",
        "import pandas as pd\n",
        "import numpy as np\n",
        "from sklearn.model_selection import train_test_split\n",
        "from sklearn.linear_model import LinearRegression\n",
        "from sklearn.metrics import mean_absolute_error\n",
        "import joblib\n",
        "\n",
        "print(\"✅ Librerías importadas correctamente\")\n"
      ]
    },
    {
      "cell_type": "code",
      "source": [
        "# 2. Cargar los datos\n",
        "# Uso una muestra pública del dataset de taxi\n",
        "url = \"https://raw.githubusercontent.com/DataTalksClub/machine-learning-zoomcamp/main/datasets/taxi.csv\"\n",
        "data = pd.read_csv(url)\n",
        "print(\"✅ Datos cargados correctamente — primeras 5 filas:\")\n",
        "data.head()\n"
      ],
      "metadata": {
        "id": "o1-I_1Wxj_2U"
      },
      "execution_count": null,
      "outputs": []
    },
    {
      "cell_type": "code",
      "source": [
        "# 3. Exploración básica del dataset\n",
        "print(\"Dimensiones del dataset:\", data.shape)\n",
        "print(\"\\nColumnas disponibles:\")\n",
        "print(data.columns.tolist())\n",
        "\n",
        "# Verificar valores nulos (muestra)\n",
        "print(\"\\nNulos por columna:\")\n",
        "print(data.isna().sum())\n"
      ],
      "metadata": {
        "id": "qJ0ipXnSkydt"
      },
      "execution_count": null,
      "outputs": []
    },
    {
      "cell_type": "code",
      "source": [
        "# 4. Limpieza básica y selección de variables\n",
        "data = data.dropna(subset=[\"pickup_longitude\", \"pickup_latitude\",\n",
        "                           \"dropoff_longitude\", \"dropoff_latitude\", \"fare_amount\"])\n",
        "\n",
        "# Mantener solo tarifas razonables (ejemplo)\n",
        "data = data[(data[\"fare_amount\"] > 0) & (data[\"fare_amount\"] < 100)]\n",
        "\n",
        "# Definir X e y\n",
        "X = data[[\"pickup_longitude\", \"pickup_latitude\", \"dropoff_longitude\", \"dropoff_latitude\"]]\n",
        "y = data[\"fare_amount\"]\n",
        "\n",
        "print(\"Tamaño final del conjunto de datos (X, y):\", X.shape, y.shape)\n"
      ],
      "metadata": {
        "id": "-p6DznuFk6pq"
      },
      "execution_count": null,
      "outputs": []
    },
    {
      "cell_type": "code",
      "source": [
        "# 5. División en entrenamiento y prueba\n",
        "X_train, X_test, y_train, y_test = train_test_split(X, y, test_size=0.2, random_state=42)\n",
        "print(\"Tamaño entrenamiento:\", X_train.shape)\n",
        "print(\"Tamaño prueba:\", X_test.shape)\n"
      ],
      "metadata": {
        "id": "z0mA1vj4k_i7"
      },
      "execution_count": null,
      "outputs": []
    },
    {
      "cell_type": "code",
      "source": [
        "# 6. Entrenamiento del modelo\n",
        "model = LinearRegression()\n",
        "model.fit(X_train, y_train)\n",
        "print(\"✅ Entrenamiento completado correctamente.\")\n"
      ],
      "metadata": {
        "id": "5p4cCasdlEJq"
      },
      "execution_count": null,
      "outputs": []
    },
    {
      "cell_type": "code",
      "source": [
        "# 7. Predicciones y evaluación\n",
        "preds = model.predict(X_test)\n",
        "mae = mean_absolute_error(y_test, preds)\n",
        "print(f\"📊 Error medio absoluto (MAE): {mae:.2f}\")\n",
        "\n",
        "# Mostrar las primeras 10 comparaciones (real vs predicción)\n",
        "results = pd.DataFrame({\n",
        "    \"Real\": y_test.reset_index(drop=True)[:10],\n",
        "    \"Predicción\": np.round(preds[:10], 2)\n",
        "})\n",
        "results\n"
      ],
      "metadata": {
        "id": "MtykwesmlIRA"
      },
      "execution_count": null,
      "outputs": []
    },
    {
      "cell_type": "code",
      "source": [
        "# 8. Guardar el modelo entrenado\n",
        "joblib.dump(model, \"modelo_taxi.pkl\")\n",
        "print(\"✅ Modelo guardado como modelo_taxi.pkl en el entorno de Colab.\")\n"
      ],
      "metadata": {
        "id": "-5hZznfalMzW"
      },
      "execution_count": null,
      "outputs": []
    }
  ]
}